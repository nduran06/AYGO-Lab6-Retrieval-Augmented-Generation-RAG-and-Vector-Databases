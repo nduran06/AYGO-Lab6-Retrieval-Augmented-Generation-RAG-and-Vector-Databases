{
 "cells": [
  {
   "cell_type": "code",
   "execution_count": null,
   "id": "aeef49f6-9e28-4552-b4ee-8cc03b1fc0bc",
   "metadata": {},
   "outputs": [],
   "source": []
  },
  {
   "cell_type": "code",
   "execution_count": 2,
   "id": "2a018546-355c-4d59-9489-8f0b311088c5",
   "metadata": {},
   "outputs": [
    {
     "ename": "SyntaxError",
     "evalue": "invalid syntax (2527142179.py, line 17)",
     "output_type": "error",
     "traceback": [
      "\u001b[0;36m  Cell \u001b[0;32mIn[2], line 17\u001b[0;36m\u001b[0m\n\u001b[0;31m    Raise ValueError(\u001b[0m\n\u001b[0m          ^\u001b[0m\n\u001b[0;31mSyntaxError\u001b[0m\u001b[0;31m:\u001b[0m invalid syntax\n"
     ]
    }
   ],
   "source": [
    "# Set up OpenAI API key\n",
    "'''\n",
    "# Load environment variables from .env file\n",
    "load_dotenv()\n",
    "\n",
    "# Verify API key is available\n",
    "requiredVars = [\"OPENAI_API_KEY\", \"PINECONE_API_KEY\"]\n",
    "missingVars = [var for var in required_vars if not os.getenv(var)]\n",
    "\n",
    "if missingVars:\n",
    "    \n",
    "    os.environ[\"OPENAI_API_KEY\"] = \"***your-api-key***\"\n",
    "    os.environ[\"PINECONE_API_KEY\"] = \"***your-api-key***\"\n",
    "    os.environ[\"PINECONE_ENVIRONMENT\"] = \"***your-api-key***\"\n",
    "    \n",
    "\n",
    "    Raise ValueError(\n",
    "        f\"Missing required env variables: {', '.join(missingVars)}\\n\"\n",
    "    )'''"
   ]
  },
  {
   "cell_type": "code",
   "execution_count": 3,
   "id": "9e8aae7e-b329-477c-98da-0c7d5a7807e8",
   "metadata": {},
   "outputs": [],
   "source": [
    "# Imports\n",
    "\n",
    "import os\n",
    "import time\n",
    "from dotenv import load_dotenv\n",
    "from langchain.chains import RetrievalQA\n",
    "from langchain_community.document_loaders import TextLoader\n",
    "from langchain_community.vectorstores import FAISS\n",
    "from langchain_core.documents import Document\n",
    "from langchain_openai import OpenAI, OpenAIEmbeddings, ChatOpenAI\n",
    "from langchain.prompts import PromptTemplate\n",
    "from langchain.text_splitter import RecursiveCharacterTextSplitter\n",
    "from pinecone import Pinecone as pn, ServerlessSpec\n",
    "from uuid import uuid4\n",
    "\n"
   ]
  },
  {
   "cell_type": "code",
   "execution_count": 4,
   "id": "3e9b76f8-f1dd-4444-8660-ecffd9665a74",
   "metadata": {},
   "outputs": [],
   "source": [
    "def env_setup():\n",
    "\n",
    "    \"\"\"\n",
    "        Set up required environment variables: OpenAI API key\n",
    "    \"\"\"\n",
    "    \n",
    "    load_dotenv()\n",
    "\n",
    "    # Verify API key is available\n",
    "    requiredVars = [\"OPENAI_API_KEY\", \"PINECONE_API_KEY\"]\n",
    "    missingVars = [var for var in requiredVars if not os.getenv(var)]\n",
    "    \n",
    "    if missingVars:\n",
    "        '''\n",
    "        os.environ[\"OPENAI_API_KEY\"] = \"***your-api-key***\"\n",
    "        os.environ[\"PINECONE_API_KEY\"] = \"***your-api-key***\"\n",
    "        '''\n",
    "    \n",
    "        raise ValueError(\n",
    "            f\"Missing required env variables: {', '.join(missingVars)}\\n\"\n",
    "        )"
   ]
  },
  {
   "cell_type": "code",
   "execution_count": 5,
   "id": "6ddc8a9c-93d0-4f4c-8dea-1c9620a62be9",
   "metadata": {},
   "outputs": [],
   "source": [
    "# 1. Create sample knowledge base\n",
    "def create_sample_data():\n",
    "    \"\"\"Create a sample text file with information about AI\"\"\"\n",
    "    sample_text = \"\"\"\n",
    "    Artificial Intelligence (AI) is the simulation of human intelligence by machines.\n",
    "    Machine Learning is a subset of AI that enables systems to learn from data.\n",
    "    Deep Learning is a type of machine learning based on artificial neural networks.\n",
    "    Natural Language Processing (NLP) is a branch of AI that helps computers understand human language.\n",
    "    Computer Vision is the field of AI that enables computers to understand and process visual information.\n",
    "    \"\"\"\n",
    "    \n",
    "    with open(\"ai_knowledge.txt\", \"w\") as f:\n",
    "        f.write(sample_text)"
   ]
  },
  {
   "cell_type": "code",
   "execution_count": 4,
   "id": "f90a9da3-85fc-4d02-ad14-0fba04642cf3",
   "metadata": {},
   "outputs": [],
   "source": [
    "# 2. Load and process documents\n",
    "def load_and_process_documents(file_path):\n",
    "    \"\"\"Load and split documents into chunks\"\"\"\n",
    "    # Load document\n",
    "    loader = TextLoader(file_path)\n",
    "    documents = loader.load()\n",
    "    \n",
    "    # Split text into chunks\n",
    "    text_splitter = RecursiveCharacterTextSplitter(\n",
    "        chunk_size=500,\n",
    "        chunk_overlap=50,\n",
    "        length_function=len\n",
    "    )\n",
    "    chunks = text_splitter.split_documents(documents)\n",
    "    \n",
    "    return chunks"
   ]
  },
  {
   "cell_type": "code",
   "execution_count": 5,
   "id": "ceb6f498-d4c5-40cc-a34c-3d38dbd46974",
   "metadata": {},
   "outputs": [],
   "source": [
    "# 3. Create vector store\n",
    "def create_vector_store(chunks):\n",
    "    \"\"\"Create a FAISS vector store from document chunks\"\"\"\n",
    "    # Initialize embeddings\n",
    "    embeddings = OpenAIEmbeddings()\n",
    "    \n",
    "    # Create vector store\n",
    "    vector_store = FAISS.from_documents(chunks, embeddings)\n",
    "    \n",
    "    return vector_store"
   ]
  },
  {
   "cell_type": "code",
   "execution_count": 6,
   "id": "439a5775-1cb3-4a5c-a9cf-0a2732acd6c1",
   "metadata": {},
   "outputs": [],
   "source": [
    "# 4. Set up RAG chain\n",
    "def setup_rag_chain(vector_store):\n",
    "    \"\"\"Create a retrieval chain using the vector store\"\"\"\n",
    "    # Create LLM\n",
    "    llm = ChatOpenAI(model=\"gpt-4o-mini\")\n",
    "    \n",
    "    # Create custom prompt template\n",
    "    prompt_template = \"\"\"\n",
    "    Use the following pieces of context to answer the question at the end. \n",
    "    If you don't know the answer based on the context, just say you don't know.\n",
    "    Don't try to make up an answer.\n",
    "    \n",
    "    Context: {context}\n",
    "    \n",
    "    Question: {question}\n",
    "    \n",
    "    Answer:\"\"\"\n",
    "    \n",
    "    PROMPT = PromptTemplate(\n",
    "        template=prompt_template,\n",
    "        input_variables=[\"context\", \"question\"]\n",
    "    )\n",
    "    \n",
    "    # Create chain\n",
    "    chain = RetrievalQA.from_chain_type(\n",
    "        llm=llm,\n",
    "        chain_type=\"stuff\",\n",
    "        retriever=vector_store.as_retriever(),\n",
    "        chain_type_kwargs={\"prompt\": PROMPT}\n",
    "    )\n",
    "    \n",
    "    return chain"
   ]
  },
  {
   "cell_type": "code",
   "execution_count": 7,
   "id": "6924474c-764b-4f45-837c-2e24dc4b2d25",
   "metadata": {},
   "outputs": [],
   "source": [
    "# 5. Query function\n",
    "def query_rag(chain, question):\n",
    "    \"\"\"Query the RAG system\"\"\"\n",
    "    response = chain.invoke(question)\n",
    "    return response"
   ]
  },
  {
   "cell_type": "code",
   "execution_count": 8,
   "id": "e0d6d4a1-aad0-4eb1-9480-b7b6d79caa93",
   "metadata": {},
   "outputs": [],
   "source": [
    "def run_rag():\n",
    "    \n",
    "    # Environment setup\n",
    "    env_setup()\n",
    "    \n",
    "    # Create sample data\n",
    "    create_sample_data()\n",
    "    \n",
    "    # Process documents\n",
    "    chunks = load_and_process_documents(\"ai_knowledge.txt\")\n",
    "    \n",
    "    # Create vector store\n",
    "    vector_store = create_vector_store(chunks)\n",
    "    \n",
    "    # Setup RAG chain\n",
    "    chain = setup_rag_chain(vector_store)\n",
    "    \n",
    "    # Test queries\n",
    "    test_questions = [\n",
    "        \"What is Artificial Intelligence?\",\n",
    "        \"How is Machine Learning related to AI?\",\n",
    "        \"What is the purpose of NLP?\"\n",
    "    ]\n",
    "    \n",
    "    for question in test_questions:\n",
    "        print(f\"\\nQuestion: {question}\")\n",
    "        response = query_rag(chain, question)\n",
    "        print(f\"Answer: {response['result']}\")\n",
    "    "
   ]
  },
  {
   "cell_type": "code",
   "execution_count": 9,
   "id": "a5aa71c8-0b03-4d14-9f75-d92f48830c3e",
   "metadata": {},
   "outputs": [
    {
     "name": "stdout",
     "output_type": "stream",
     "text": [
      "\n",
      "Question: What is Artificial Intelligence?\n",
      "Answer: Artificial Intelligence (AI) is the simulation of human intelligence by machines.\n",
      "\n",
      "Question: How is Machine Learning related to AI?\n",
      "Answer: Machine Learning is a subset of AI that enables systems to learn from data.\n",
      "\n",
      "Question: What is the purpose of NLP?\n",
      "Answer: The purpose of NLP is to help computers understand human language.\n"
     ]
    }
   ],
   "source": [
    "run_rag()"
   ]
  },
  {
   "cell_type": "code",
   "execution_count": 46,
   "id": "e9ad8b68-c5b8-4b6a-a3d3-fe283a21e6ae",
   "metadata": {},
   "outputs": [],
   "source": [
    "from pinecone import Pinecone as PineconeClient\n",
    "from langchain.vectorstores import Pinecone\n",
    "\n",
    "def get_create_pinecone_index(index_name=\"aygo-langchain-index2\"):\n",
    "\n",
    "    pinecone_api_key = os.environ.get(\"PINECONE_API_KEY\")\n",
    "    pc =  PineconeClient(\n",
    "        api_key=os.environ.get(\"PINECONE_API_KEY\")\n",
    "    )\n",
    "\n",
    "    index_name = \"aygo-langchain-index2\"\n",
    "    \n",
    "    existing_indexes = [index_info[\"name\"] for index_info in pc.list_indexes()]\n",
    "    \n",
    "    if index_name not in existing_indexes:\n",
    "        pc.create_index(\n",
    "            name=index_name,\n",
    "            dimension=1536,\n",
    "            metric=\"cosine\",\n",
    "            spec=ServerlessSpec(cloud=\"aws\", region=\"us-east-1\"),\n",
    "        )\n",
    "        while not pc.describe_index(index_name).status[\"ready\"]:\n",
    "            time.sleep(1)\n",
    "    \n",
    "    return pc.Index(index_name)"
   ]
  },
  {
   "cell_type": "code",
   "execution_count": 47,
   "id": "6fb6d9b7-ff64-4cc0-aca9-b0f5020bd483",
   "metadata": {},
   "outputs": [],
   "source": [
    "def create_vector_store_pinecone(chunks, index_name=\"aygo-langchain-index\"):\n",
    "    \"\"\"Create a Pinecone vector store from document chunks\"\"\"\n",
    "    \n",
    "    \"\"\"Create a Pinecone vector store from document chunks\"\"\"\n",
    "    # Initialize embeddings\n",
    "    embeddings = OpenAIEmbeddings()\n",
    "    \n",
    "    # Create or get Pinecone index\n",
    "    index = get_create_pinecone_index(\"aygo-langchain-index2\")\n",
    "    print(index.describe_index_stats())\n",
    "    \n",
    "\n",
    "    # Extract texts and metadata\n",
    "    texts = [doc.page_content for doc in chunks]\n",
    "    metadatas = [doc.metadata for doc in chunks]\n",
    "    \n",
    "    # Generate embeddings\n",
    "    embeddings_list = embeddings.embed_documents(texts)\n",
    "    \n",
    "    # Create vector store\n",
    "    vector_store = langchain.vectorstores.Pinecone.from_documents(\n",
    "        index=index,\n",
    "        embedding=embeddings,\n",
    "        text_key=\"text\"  # The key for the text field in metadata\n",
    "    )\n",
    "    \n",
    "    # Add documents to the vector store\n",
    "    for i, (text, embedding) in enumerate(zip(texts, embeddings_list)):\n",
    "        metadata = metadatas[i]\n",
    "        metadata[\"text\"] = text  # Add text to metadata\n",
    "        index.upsert(\n",
    "            vectors=[\n",
    "                {\n",
    "                    \"id\": f\"doc_{i}\",\n",
    "                    \"values\": embedding,\n",
    "                    \"metadata\": metadata\n",
    "                }\n",
    "            ]\n",
    "        )\n",
    "    \n",
    "    return vector_store"
   ]
  },
  {
   "cell_type": "code",
   "execution_count": 48,
   "id": "2cd4df5b-2b1c-43e1-95e2-908bf5cc0860",
   "metadata": {},
   "outputs": [],
   "source": [
    "from pinecone import Pinecone as PineconeClient\n",
    "from langchain.vectorstores import Pinecone\n",
    "\n",
    "def create_vector_store_pinecone(chunks, index_name=\"aygo-langchain-index2\"):\n",
    "    \"\"\"Create a Pinecone vector store from document chunks\"\"\"\n",
    "    \n",
    "    \"\"\"Create a Pinecone vector store from document chunks\"\"\"\n",
    "    # Initialize embeddings\n",
    "    embeddings = OpenAIEmbeddings()\n",
    "    \n",
    "    # Create or get Pinecone index\n",
    "    index = get_create_pinecone_index(\"aygo-langchain-index2\")\n",
    "    print(index.describe_index_stats())\n",
    "    \n",
    "\n",
    "    # Extract texts and metadata\n",
    "    texts = [doc.page_content for doc in chunks]\n",
    "    metadatas = [doc.metadata for doc in chunks]\n",
    "    \n",
    "    # Generate embeddings\n",
    "    embeddings_list = embeddings.embed_documents(texts)\n",
    "    \n",
    "    # Create vector store\n",
    "    vector_store = Pinecone.from_documents(\n",
    "        index_name=index_name,\n",
    "        embedding=embeddings,\n",
    "        documents=chunks  # The key for the text field in metadata\n",
    "    )\n",
    "    \n",
    "  \n",
    "    return vector_store"
   ]
  },
  {
   "cell_type": "code",
   "execution_count": 49,
   "id": "a8c950d9-06d5-4906-99c5-fdf40e9c2384",
   "metadata": {
    "scrolled": true
   },
   "outputs": [],
   "source": [
    "from pinecone import Pinecone, ServerlessSpec\n",
    "import pinecone\n",
    "from langchain.vectorstores import Pinecone\n",
    "\n",
    "# Main execution\n",
    "def run_rag_pinecone():\n",
    "\n",
    "    # Environment setup\n",
    "    env_setup()\n",
    "    \n",
    "    # Create sample data\n",
    "    create_sample_data()\n",
    "    \n",
    "    # Process documents\n",
    "    chunks = load_and_process_documents(\"ai_knowledge.txt\")\n",
    "    \n",
    "    # Create vector store\n",
    "    vector_store = create_vector_store_pinecone(chunks)\n",
    "    \n",
    "    # Setup RAG chain\n",
    "    chain = setup_rag_chain(vector_store)\n",
    "    \n",
    "    # Test queries\n",
    "    test_questions = [\n",
    "        \"What is Artificial Intelligence?\",\n",
    "        \"How is Machine Learning related to AI?\",\n",
    "        \"What is the purpose of NLP?\"\n",
    "    ]\n",
    "    \n",
    "    for question in test_questions:\n",
    "        print(f\"\\nQuestion: {question}\")\n",
    "        response = query_rag(chain, question)\n",
    "        print(f\"Answer: {response['result']}\")"
   ]
  },
  {
   "cell_type": "code",
   "execution_count": 50,
   "id": "083820b9-1bb3-43a3-9ab3-f54ae02ff6dd",
   "metadata": {},
   "outputs": [
    {
     "name": "stdout",
     "output_type": "stream",
     "text": [
      "{'dimension': 1536,\n",
      " 'index_fullness': 0.0,\n",
      " 'namespaces': {'': {'vector_count': 1}},\n",
      " 'total_vector_count': 1}\n",
      "\n",
      "Question: What is Artificial Intelligence?\n",
      "Answer: Artificial Intelligence (AI) is the simulation of human intelligence by machines.\n",
      "\n",
      "Question: How is Machine Learning related to AI?\n",
      "Answer: Machine Learning is a subset of AI that enables systems to learn from data.\n",
      "\n",
      "Question: What is the purpose of NLP?\n",
      "Answer: The purpose of NLP (Natural Language Processing) is to help computers understand human language.\n"
     ]
    }
   ],
   "source": [
    "run_rag_pinecone()"
   ]
  },
  {
   "cell_type": "code",
   "execution_count": 21,
   "id": "86ef9773-e5da-472e-9db6-b873ce7d3cfe",
   "metadata": {
    "scrolled": true
   },
   "outputs": [
    {
     "ename": "AttributeError",
     "evalue": "from_documents is not a top-level attribute of the Pinecone class provided by pinecone's official python package developed at https://github.com/pinecone-io/pinecone-python-client. You may have a name collision with an export from another dependency in your project that wraps Pinecone functionality and exports a similarly named class. Please refer to the following knowledge base article for more information: https://docs.pinecone.io/troubleshooting/pinecone-attribute-errors-with-langchain\n",
     "output_type": "error",
     "traceback": [
      "\u001b[0;31m---------------------------------------------------------------------------\u001b[0m",
      "\u001b[0;31mAttributeError\u001b[0m                            Traceback (most recent call last)",
      "Cell \u001b[0;32mIn[21], line 34\u001b[0m\n\u001b[1;32m     31\u001b[0m         \u001b[38;5;28mprint\u001b[39m(\u001b[38;5;124mf\u001b[39m\u001b[38;5;124m\"\u001b[39m\u001b[38;5;124mAnswer: \u001b[39m\u001b[38;5;132;01m{\u001b[39;00mresponse[\u001b[38;5;124m'\u001b[39m\u001b[38;5;124mresult\u001b[39m\u001b[38;5;124m'\u001b[39m]\u001b[38;5;132;01m}\u001b[39;00m\u001b[38;5;124m\"\u001b[39m)\n\u001b[1;32m     33\u001b[0m \u001b[38;5;28;01mif\u001b[39;00m \u001b[38;5;18m__name__\u001b[39m \u001b[38;5;241m==\u001b[39m \u001b[38;5;124m\"\u001b[39m\u001b[38;5;124m__main__\u001b[39m\u001b[38;5;124m\"\u001b[39m:\n\u001b[0;32m---> 34\u001b[0m     \u001b[43mmain\u001b[49m\u001b[43m(\u001b[49m\u001b[43m)\u001b[49m\n",
      "Cell \u001b[0;32mIn[21], line 15\u001b[0m, in \u001b[0;36mmain\u001b[0;34m()\u001b[0m\n\u001b[1;32m     11\u001b[0m chunks \u001b[38;5;241m=\u001b[39m load_and_process_documents(\u001b[38;5;124m\"\u001b[39m\u001b[38;5;124mai_knowledge.txt\u001b[39m\u001b[38;5;124m\"\u001b[39m)\n\u001b[1;32m     13\u001b[0m \u001b[38;5;66;03m# Create vector store\u001b[39;00m\n\u001b[1;32m     14\u001b[0m \u001b[38;5;66;03m#vector_store = create_vector_store(chunks)\u001b[39;00m\n\u001b[0;32m---> 15\u001b[0m vector_store \u001b[38;5;241m=\u001b[39m \u001b[43mcreate_vector_store\u001b[49m\u001b[43m(\u001b[49m\u001b[38;5;124;43m\"\u001b[39;49m\u001b[38;5;124;43maygo-langchain-index\u001b[39;49m\u001b[38;5;124;43m\"\u001b[39;49m\u001b[43m)\u001b[49m\n\u001b[1;32m     18\u001b[0m \u001b[38;5;66;03m# Setup RAG chain\u001b[39;00m\n\u001b[1;32m     19\u001b[0m chain \u001b[38;5;241m=\u001b[39m setup_rag_chain(vector_store)\n",
      "Cell \u001b[0;32mIn[18], line 11\u001b[0m, in \u001b[0;36mcreate_vector_store\u001b[0;34m(chunks, index_name)\u001b[0m\n\u001b[1;32m      8\u001b[0m index \u001b[38;5;241m=\u001b[39m get_create_pinecone_index(index_name)\n\u001b[1;32m     10\u001b[0m \u001b[38;5;66;03m# Create vector store\u001b[39;00m\n\u001b[0;32m---> 11\u001b[0m vector_store \u001b[38;5;241m=\u001b[39m \u001b[43mPinecone\u001b[49m\u001b[38;5;241;43m.\u001b[39;49m\u001b[43mfrom_documents\u001b[49m\u001b[43m(\u001b[49m\n\u001b[1;32m     12\u001b[0m \u001b[43m    \u001b[49m\u001b[43mdocuments\u001b[49m\u001b[38;5;241;43m=\u001b[39;49m\u001b[43mchunks\u001b[49m\u001b[43m,\u001b[49m\n\u001b[1;32m     13\u001b[0m \u001b[43m    \u001b[49m\u001b[43membedding\u001b[49m\u001b[38;5;241;43m=\u001b[39;49m\u001b[43membeddings\u001b[49m\u001b[43m,\u001b[49m\n\u001b[1;32m     14\u001b[0m \u001b[43m    \u001b[49m\u001b[43mindex_name\u001b[49m\u001b[38;5;241;43m=\u001b[39;49m\u001b[43mindex_name\u001b[49m\n\u001b[1;32m     15\u001b[0m \u001b[43m\u001b[49m\u001b[43m)\u001b[49m\n\u001b[1;32m     17\u001b[0m \u001b[38;5;28;01mreturn\u001b[39;00m vector_store\n",
      "File \u001b[0;32m~/.local/lib/python3.12/site-packages/pinecone/control/pinecone.py:697\u001b[0m, in \u001b[0;36mPinecone.from_documents\u001b[0;34m(*args, **kwargs)\u001b[0m\n\u001b[1;32m    695\u001b[0m \u001b[38;5;129m@staticmethod\u001b[39m\n\u001b[1;32m    696\u001b[0m \u001b[38;5;28;01mdef\u001b[39;00m \u001b[38;5;21mfrom_documents\u001b[39m(\u001b[38;5;241m*\u001b[39margs, \u001b[38;5;241m*\u001b[39m\u001b[38;5;241m*\u001b[39mkwargs):\n\u001b[0;32m--> 697\u001b[0m     \u001b[38;5;28;01mraise\u001b[39;00m \u001b[38;5;167;01mAttributeError\u001b[39;00m(_build_langchain_attribute_error_message(\u001b[38;5;124m\"\u001b[39m\u001b[38;5;124mfrom_documents\u001b[39m\u001b[38;5;124m\"\u001b[39m))\n",
      "\u001b[0;31mAttributeError\u001b[0m: from_documents is not a top-level attribute of the Pinecone class provided by pinecone's official python package developed at https://github.com/pinecone-io/pinecone-python-client. You may have a name collision with an export from another dependency in your project that wraps Pinecone functionality and exports a similarly named class. Please refer to the following knowledge base article for more information: https://docs.pinecone.io/troubleshooting/pinecone-attribute-errors-with-langchain\n"
     ]
    }
   ],
   "source": [
    "# Main execution\n",
    "def main():\n",
    "\n",
    "    # Environment setup\n",
    "    env_setup()\n",
    "    \n",
    "    # Create sample data\n",
    "    create_sample_data()\n",
    "    \n",
    "    # Process documents\n",
    "    chunks = load_and_process_documents(\"ai_knowledge.txt\")\n",
    "    \n",
    "    # Create vector store\n",
    "    vector_store = create_vector_store(chunks)\n",
    "    \n",
    "    # Setup RAG chain\n",
    "    chain = setup_rag_chain(vector_store)\n",
    "    \n",
    "    # Test queries\n",
    "    test_questions = [\n",
    "        \"What is Artificial Intelligence?\",\n",
    "        \"How is Machine Learning related to AI?\",\n",
    "        \"What is the purpose of NLP?\"\n",
    "    ]\n",
    "    \n",
    "    for question in test_questions:\n",
    "        print(f\"\\nQuestion: {question}\")\n",
    "        response = query_rag(chain, question)\n",
    "        print(f\"Answer: {response['result']}\")\n",
    "\n",
    "if __name__ == \"__main__\":\n",
    "    main()"
   ]
  },
  {
   "cell_type": "code",
   "execution_count": null,
   "id": "868e380b-6e72-4ca2-ba77-17649d7cab5c",
   "metadata": {},
   "outputs": [],
   "source": []
  },
  {
   "cell_type": "code",
   "execution_count": 12,
   "id": "2d646fec-8e6e-42d7-b4e8-ef490d8b907b",
   "metadata": {},
   "outputs": [
    {
     "name": "stdout",
     "output_type": "stream",
     "text": [
      "\n",
      "Question: What is Artificial Intelligence?\n",
      "Answer: Artificial Intelligence (AI) is the simulation of human intelligence by machines.\n",
      "\n",
      "Question: How is Machine Learning related to AI?\n",
      "Answer: Machine Learning is a subset of AI that enables systems to learn from data.\n",
      "\n",
      "Question: What is the purpose of NLP?\n",
      "Answer: The purpose of Natural Language Processing (NLP) is to help computers understand human language.\n"
     ]
    }
   ],
   "source": [
    "if __name__ == \"__main__\":\n",
    "    main()"
   ]
  },
  {
   "cell_type": "code",
   "execution_count": null,
   "id": "540e0c44-8da4-4903-8e03-693617991eb7",
   "metadata": {},
   "outputs": [],
   "source": []
  }
 ],
 "metadata": {
  "kernelspec": {
   "display_name": "Python 3 (ipykernel)",
   "language": "python",
   "name": "python3"
  },
  "language_info": {
   "codemirror_mode": {
    "name": "ipython",
    "version": 3
   },
   "file_extension": ".py",
   "mimetype": "text/x-python",
   "name": "python",
   "nbconvert_exporter": "python",
   "pygments_lexer": "ipython3",
   "version": "3.12.3"
  }
 },
 "nbformat": 4,
 "nbformat_minor": 5
}
